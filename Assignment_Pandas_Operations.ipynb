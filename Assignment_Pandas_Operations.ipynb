{
  "nbformat": 4,
  "nbformat_minor": 0,
  "metadata": {
    "kernelspec": {
      "display_name": "Python 3",
      "language": "python",
      "name": "python3"
    },
    "language_info": {
      "codemirror_mode": {
        "name": "ipython",
        "version": 3
      },
      "file_extension": ".py",
      "mimetype": "text/x-python",
      "name": "python",
      "nbconvert_exporter": "python",
      "pygments_lexer": "ipython3",
      "version": "3.7.1"
    },
    "colab": {
      "provenance": [],
      "collapsed_sections": [],
      "include_colab_link": true
    }
  },
  "cells": [
    {
      "cell_type": "markdown",
      "metadata": {
        "id": "view-in-github",
        "colab_type": "text"
      },
      "source": [
        "<a href=\"https://colab.research.google.com/github/k4sourav/Python_Lessons_AB/blob/main/Assignment_Pandas_Operations.ipynb\" target=\"_parent\"><img src=\"https://colab.research.google.com/assets/colab-badge.svg\" alt=\"Open In Colab\"/></a>"
      ]
    },
    {
      "cell_type": "markdown",
      "metadata": {
        "id": "WEPecVgEVrP_"
      },
      "source": [
        "## <u> Use only those concepts which have been taught till now </u>"
      ]
    },
    {
      "cell_type": "markdown",
      "metadata": {
        "id": "UCW8FaGk-pd0"
      },
      "source": [
        "# <b> Problem 1: Import Pandas and Numpy in the notebook </b>"
      ]
    },
    {
      "cell_type": "code",
      "metadata": {
        "id": "jI39LRd3-pd2"
      },
      "source": [
        "# Import statements\n",
        "import pandas as pd\n",
        "import numpy as np"
      ],
      "execution_count": 2,
      "outputs": []
    },
    {
      "cell_type": "markdown",
      "metadata": {
        "id": "QlQXvEQN-pd9"
      },
      "source": [
        "# <b> Problem 2 : Load the automobile_data.csv kept in the shared folder"
      ]
    },
    {
      "cell_type": "code",
      "metadata": {
        "id": "3WUSC_18-peA"
      },
      "source": [
        "# Mount your drive and read the csv file. Make sure you are using the correct file path\n",
        "\n"
      ],
      "execution_count": null,
      "outputs": []
    },
    {
      "cell_type": "markdown",
      "metadata": {
        "id": "PH1F_Um_-peG"
      },
      "source": [
        "# <b> Problem 3 : Do a basic inspection and print the first and last 15 rows of your dataframe"
      ]
    },
    {
      "cell_type": "code",
      "metadata": {
        "id": "pfsMFefk-peH"
      },
      "source": [
        "# Your code here\n",
        "\n",
        "\n"
      ],
      "execution_count": null,
      "outputs": []
    },
    {
      "cell_type": "markdown",
      "metadata": {
        "id": "4NfjE6Zi-peN"
      },
      "source": [
        "# <b>Problem 4 : You need to clean the data a little bit now. Replace all column values with the values <code>?</code> and <code>n.a</code> with <code>NaN</code>"
      ]
    },
    {
      "cell_type": "code",
      "metadata": {
        "id": "oP498Mmj-peO"
      },
      "source": [
        "# Your code here\n",
        "\n"
      ],
      "execution_count": null,
      "outputs": []
    },
    {
      "cell_type": "markdown",
      "metadata": {
        "id": "r00eoWW5-peY"
      },
      "source": [
        "# <b>Problem 5 : Print the company name which manufactured the most expensive car. Also print the price of the most expensive car"
      ]
    },
    {
      "cell_type": "code",
      "metadata": {
        "id": "9wkVhCBt-peZ"
      },
      "source": [
        "# Your code here\n",
        "\n"
      ],
      "execution_count": null,
      "outputs": []
    },
    {
      "cell_type": "markdown",
      "metadata": {
        "id": "e1HgPqG4-per"
      },
      "source": [
        "# <b>Problem 6 : Calculate maximum horsepowers for each company. </b>"
      ]
    },
    {
      "cell_type": "code",
      "metadata": {
        "id": "6BhyXGRT-pes"
      },
      "source": [
        "# Your code here\n",
        "\n"
      ],
      "execution_count": null,
      "outputs": []
    },
    {
      "cell_type": "markdown",
      "metadata": {
        "id": "g4mQp9Oe-pe2"
      },
      "source": [
        "# <b> Problem 7 : Print the total number of cars manufactured by each company"
      ]
    },
    {
      "cell_type": "code",
      "metadata": {
        "id": "Ha-DcEwR-pe2"
      },
      "source": [
        "# Your code here\n",
        "\n"
      ],
      "execution_count": null,
      "outputs": []
    },
    {
      "cell_type": "markdown",
      "metadata": {
        "id": "ISvNXTil-pfD"
      },
      "source": [
        "# <b> Problem 8 : Create a new column for the updated price. This updated price will be calculated on top of the given price - if the engine is in front, price will be same else if the engine is in rear, price will be doubled </b>\n"
      ]
    },
    {
      "cell_type": "code",
      "metadata": {
        "id": "uAxTru2g-pfE"
      },
      "source": [
        "# Your code here. Use apply and lambda\n",
        "\n"
      ],
      "execution_count": null,
      "outputs": []
    },
    {
      "cell_type": "markdown",
      "metadata": {
        "id": "_ZSbVXEl-pfJ"
      },
      "source": [
        "# <b>Problem 9 : Sort the dataframe by car and price columns"
      ]
    },
    {
      "cell_type": "code",
      "metadata": {
        "id": "IhYvJzXh-pfK"
      },
      "source": [
        "# Your code here\n",
        "\n"
      ],
      "execution_count": null,
      "outputs": []
    },
    {
      "cell_type": "markdown",
      "metadata": {
        "id": "7FrpY5oAVJny"
      },
      "source": [
        "# <b> Problem 10 : Create a new column which stores the number of doors in a car as integers. "
      ]
    },
    {
      "cell_type": "code",
      "metadata": {
        "id": "JA1sGbTWVa_O"
      },
      "source": [
        "# Your code here. Use apply\n",
        "\n",
        "\n"
      ],
      "execution_count": null,
      "outputs": []
    },
    {
      "cell_type": "markdown",
      "metadata": {
        "id": "lXyj2eMQ-pfX"
      },
      "source": [
        "# <b>Problem 11 : Concatenate the two data frames given below firstly row wise and secondly column wise.</b>\n",
        "\n",
        "<code>GermanCars = {'Company': ['Ford', 'Mercedes', 'BMV', 'Audi'], 'Price': [23845, 171995, 135925 , 71400]}</code>\n",
        "\n",
        "<code>japaneseCars = {'Company': ['Toyota', 'Honda', 'Nissan', 'Mitsubishi '], 'Price': [29995, 23600, 61500 , 58900]}</code>"
      ]
    },
    {
      "cell_type": "code",
      "metadata": {
        "id": "jkLzShbM-pfY"
      },
      "source": [
        "# Your code here\n",
        "\n"
      ],
      "execution_count": null,
      "outputs": []
    }
  ]
}