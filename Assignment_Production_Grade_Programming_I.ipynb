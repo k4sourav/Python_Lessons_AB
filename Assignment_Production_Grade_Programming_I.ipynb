{
  "nbformat": 4,
  "nbformat_minor": 0,
  "metadata": {
    "kernelspec": {
      "display_name": "Python 3",
      "language": "python",
      "name": "python3"
    },
    "language_info": {
      "codemirror_mode": {
        "name": "ipython",
        "version": 3
      },
      "file_extension": ".py",
      "mimetype": "text/x-python",
      "name": "python",
      "nbconvert_exporter": "python",
      "pygments_lexer": "ipython3",
      "version": "3.7.4"
    },
    "colab": {
      "provenance": [],
      "collapsed_sections": [],
      "include_colab_link": true
    }
  },
  "cells": [
    {
      "cell_type": "markdown",
      "metadata": {
        "id": "view-in-github",
        "colab_type": "text"
      },
      "source": [
        "<a href=\"https://colab.research.google.com/github/k4sourav/Python_Lessons_AB/blob/main/Assignment_Production_Grade_Programming_I.ipynb\" target=\"_parent\"><img src=\"https://colab.research.google.com/assets/colab-badge.svg\" alt=\"Open In Colab\"/></a>"
      ]
    },
    {
      "cell_type": "markdown",
      "metadata": {
        "id": "8WbUJEVzs8Bx"
      },
      "source": [
        "## <u>While doing this assignment only use those concepts which have been taught till now</u>"
      ]
    },
    {
      "cell_type": "markdown",
      "metadata": {
        "id": "77zLnpaNvNSp"
      },
      "source": [
        "# <u> Problem 1</u>\n",
        "\n",
        "### Create a class <code>Cylinder</code> which takes two attributes <code>radius</code> and <code>height</code>.\n",
        "\n",
        "### Create the following methods in this class:\n",
        "\n",
        "* ### method <code>volume()</code> which calculates the volume of the cyinder which is defined as $V  = \\pi r^2 h$\n",
        "\n",
        "* ### method <code>surface_area()</code> which calculates the area of the cyinder which is defined as $S  = 2\\pi r h$. Assume this is an open cylinder\n"
      ]
    },
    {
      "cell_type": "code",
      "metadata": {
        "id": "-cWkCZ5OzX0G"
      },
      "source": [
        "# Write your code below. Take pi as 3.14\n",
        "class Cylinder:\n",
        "\n",
        "  def __init__ (self, radius, height):\n",
        "    self.vol = 3.14 * radius**2 * height\n",
        "    self.surf_area = 2 * 3.14 * radius * height\n",
        "  "
      ],
      "execution_count": 68,
      "outputs": []
    },
    {
      "cell_type": "code",
      "source": [
        "x = Cylinder(2,4)\n",
        "print(x.vol, x.surf_area)"
      ],
      "metadata": {
        "colab": {
          "base_uri": "https://localhost:8080/"
        },
        "id": "Vc4qzBVTWMQD",
        "outputId": "22da8b76-be7b-4b31-87b9-e848eb5578f2"
      },
      "execution_count": 69,
      "outputs": [
        {
          "output_type": "stream",
          "name": "stdout",
          "text": [
            "50.24 50.24\n"
          ]
        }
      ]
    },
    {
      "cell_type": "markdown",
      "metadata": {
        "id": "KjPWYK0Rs8By"
      },
      "source": [
        "## <u>Problem 2</u>\n",
        "\n",
        "### You started your own money wallet where your customers can create their accounts and they can either deposit or withdraw money from this wallet.\n",
        "\n",
        "### Write a Python class <code>BankAccount</code> which takes the balance as an attribute. You can initialize the balance with 0 because any new account will have 0 rupees in their wallet. Next write two methods for your class :\n",
        "\n",
        "* #### <code>withdraw()</code> method which takes the amount to be withdrawn as an argument and returns the balance after the withdrawal\n",
        "\n",
        "* #### <code>deposit()</code> method which takes the amount to be deposited as an argument and returns the balance after the deposit.\n",
        "\n",
        "### Keep in mind that if the balance to be withdrawn exceeds the current balance, it should display a message that \"Not enough balance in your account\"\n"
      ]
    },
    {
      "cell_type": "code",
      "metadata": {
        "id": "RxVZTrenzfHC"
      },
      "source": [
        "# Write your BankAccount class below \n",
        "class BankAccount:\n",
        "  def __init__ (self, balance=0):\n",
        "    self.balance = balance\n",
        "\n",
        "  def deposit(self, amount):\n",
        "    self.balance += amount\n",
        "\n",
        "  def withdraw(self, amount):\n",
        "    \n",
        "    if self.balance < amount:\n",
        "      print(\"Insufficient Balance\")\n",
        "    else:\n",
        "      self.balance -= amount\n",
        "    \n",
        "    return self.balance\n",
        "    \n"
      ],
      "execution_count": 98,
      "outputs": []
    },
    {
      "cell_type": "code",
      "metadata": {
        "id": "N1Yhpkiws8B3"
      },
      "source": [
        "# Create two instances of this class for two customers\n",
        "ram = BankAccount(balance = 0)\n",
        "shyam = BankAccount(balance = 1000)"
      ],
      "execution_count": 99,
      "outputs": []
    },
    {
      "cell_type": "code",
      "source": [
        "# Deposit some amount and withdrawing some amount from John's account\n",
        "ram.deposit(100)\n",
        "ram.balance"
      ],
      "metadata": {
        "colab": {
          "base_uri": "https://localhost:8080/"
        },
        "id": "4im0VFQ_1cw3",
        "outputId": "f198d10a-07c3-45f7-fcbe-99f6c74adc48"
      },
      "execution_count": 100,
      "outputs": [
        {
          "output_type": "execute_result",
          "data": {
            "text/plain": [
              "100"
            ]
          },
          "metadata": {},
          "execution_count": 100
        }
      ]
    },
    {
      "cell_type": "code",
      "source": [
        "shyam.deposit(200)\n",
        "shyam.balance"
      ],
      "metadata": {
        "colab": {
          "base_uri": "https://localhost:8080/"
        },
        "id": "P-Iy0heO1kyn",
        "outputId": "ae9e8cab-8561-4ccc-c02d-56b1439472d9"
      },
      "execution_count": 101,
      "outputs": [
        {
          "output_type": "execute_result",
          "data": {
            "text/plain": [
              "1200"
            ]
          },
          "metadata": {},
          "execution_count": 101
        }
      ]
    },
    {
      "cell_type": "code",
      "source": [
        "ram.withdraw(500)\n",
        "shyam.withdraw(500)\n"
      ],
      "metadata": {
        "colab": {
          "base_uri": "https://localhost:8080/"
        },
        "id": "xEhNopXu12JV",
        "outputId": "48b272f6-a5ab-42b4-fdee-caaf9ddd1a64"
      },
      "execution_count": 102,
      "outputs": [
        {
          "output_type": "stream",
          "name": "stdout",
          "text": [
            "Insufficient Balance\n"
          ]
        },
        {
          "output_type": "execute_result",
          "data": {
            "text/plain": [
              "700"
            ]
          },
          "metadata": {},
          "execution_count": 102
        }
      ]
    },
    {
      "cell_type": "markdown",
      "metadata": {
        "id": "5qd8g8UUs8CM"
      },
      "source": [
        "## <u>Problem 3 </u>\n",
        "\n",
        "### Create a class <code>Time </code> which takes two inputs hours and minutes to instantiate.\n",
        "*  #### Construct a method <code>DisplayTime()</code> which displays the time in AM/PM formats. For example if the input is 14 hours and 45 mins, then this method will print \"The time is 2:45 PM\". If the inputted hours exceeds 23 then print the message \"The input hours should be less than 24\" and if the inputted minutes exceeds 59 then print the message \"The input minutes should be less than 60.\" Also if the input is 12 hours 30 minutes, then the displayed time would be 12:30 PM\n",
        "* #### Construct a method <code>DisplayRatio()</code> which should display the ratio of minutes to hours. For example, (8 hours and  16 mins) should display 2. Use <code>try</code>, <code>except</code> block to account for ZeroDivisionError."
      ]
    },
    {
      "cell_type": "code",
      "metadata": {
        "id": "FBJy9Sq_s8CN"
      },
      "source": [
        "class Time:\n",
        "  def __init__(self, hours, mins):\n",
        "    self.hours = hours\n",
        "    self.mins = mins\n",
        "\n",
        "  def DisplayTime(self):\n",
        "    if (self.hours > 23) or (self.mins > 59):\n",
        "      print(\"The input hours should be less than 24 and input minutes should be less than 60.\")\n",
        "\n",
        "    else :\n",
        "      if (self.hours < 12) and (self.mins < 60):\n",
        "        time = str(self.hours)+\":\"+str(self.mins)+\"AM\"\n",
        "        print(f\"The time is {time}\")\n",
        "\n",
        "      elif (self.hours == 12) and (self.mins < 60):\n",
        "        time = str(self.hours)+\":\"+str(self.mins)+\" PM\"\n",
        "        print(f\"The time is {time}\")\n",
        "\n",
        "      else :\n",
        "        time = str(self.hours-12)+\":\"+str(self.mins)+\"PM\"\n",
        "        print(f\"The time is {time}\")\n",
        "\n",
        "  def DisplayRatio(self):\n",
        "    try:\n",
        "      print(self.mins/self.hours)\n",
        "    except:\n",
        "      print(\"Argument 'hours' should not be Zero.\")"
      ],
      "execution_count": 103,
      "outputs": []
    },
    {
      "cell_type": "code",
      "metadata": {
        "id": "zywXa51d6Eev",
        "colab": {
          "base_uri": "https://localhost:8080/"
        },
        "outputId": "430fd93a-4f41-400f-c261-fa6782f72db1"
      },
      "source": [
        "# Check for few sample inputs of hours and mins\n",
        "hour_min_list = [(23,45), (34,50), (12,34), (14,67),(19,20), (2,15), (0, 10)]\n",
        "\n",
        "# Using a for loop display the corresponding 12 hour time format for the above hour_min_list\n",
        "for hour, min in hour_min_list:\n",
        "  a = Time(hour,min)\n",
        "  a.DisplayTime()"
      ],
      "execution_count": 109,
      "outputs": [
        {
          "output_type": "stream",
          "name": "stdout",
          "text": [
            "The time is 11:45PM\n",
            "The input hours should be less than 24 and input minutes should be less than 60.\n",
            "The time is 12:34 PM\n",
            "The input hours should be less than 24 and input minutes should be less than 60.\n",
            "The time is 7:20PM\n",
            "The time is 2:15AM\n",
            "The time is 0:10AM\n"
          ]
        }
      ]
    },
    {
      "cell_type": "code",
      "source": [
        "# Also display the corresponding ratios for the above list\n",
        "for hour, min in hour_min_list:\n",
        "  a = Time(hour,min)\n",
        "  a.DisplayRatio() "
      ],
      "metadata": {
        "colab": {
          "base_uri": "https://localhost:8080/"
        },
        "id": "FlHSozTM7N9Z",
        "outputId": "2248fb6f-8fab-4c40-c74e-0fbdfa59cbb8"
      },
      "execution_count": 108,
      "outputs": [
        {
          "output_type": "stream",
          "name": "stdout",
          "text": [
            "1.9565217391304348\n",
            "1.4705882352941178\n",
            "2.8333333333333335\n",
            "4.785714285714286\n",
            "1.0526315789473684\n",
            "7.5\n",
            "Argument 'hours' should not be Zero.\n"
          ]
        }
      ]
    }
  ]
}