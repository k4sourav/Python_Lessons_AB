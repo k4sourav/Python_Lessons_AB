{
  "nbformat": 4,
  "nbformat_minor": 0,
  "metadata": {
    "kernelspec": {
      "display_name": "Python 3",
      "language": "python",
      "name": "python3"
    },
    "language_info": {
      "codemirror_mode": {
        "name": "ipython",
        "version": 3
      },
      "file_extension": ".py",
      "mimetype": "text/x-python",
      "name": "python",
      "nbconvert_exporter": "python",
      "pygments_lexer": "ipython3",
      "version": "3.7.4"
    },
    "colab": {
      "provenance": [],
      "collapsed_sections": [],
      "include_colab_link": true
    }
  },
  "cells": [
    {
      "cell_type": "markdown",
      "metadata": {
        "id": "view-in-github",
        "colab_type": "text"
      },
      "source": [
        "<a href=\"https://colab.research.google.com/github/k4sourav/Python_Lessons_AB/blob/main/Assignment_Statements%2C_Indentation_and_Conditionals.ipynb\" target=\"_parent\"><img src=\"https://colab.research.google.com/assets/colab-badge.svg\" alt=\"Open In Colab\"/></a>"
      ]
    },
    {
      "cell_type": "markdown",
      "metadata": {
        "id": "8WbUJEVzs8Bx"
      },
      "source": [
        "## <u>While doing this assignment only use those concepts which have been taught till now</u>"
      ]
    },
    {
      "cell_type": "markdown",
      "metadata": {
        "id": "KjPWYK0Rs8By"
      },
      "source": [
        "## <u>Problem 1</u>\n",
        "\n",
        "### As an analyst, you had to present the quarterly performance results of your client. The data which you were provided was on daily basis. To complete this task, you needed to extract the quarter from a given date. For example:\n",
        "\n",
        "* if the date lies between 1st Jan, 2020 - 31st March, 2020, you need to extract the corresponding quarter as '2020-Q1'\n",
        "\n",
        "* if the date lies between 1st April, 2020 - 30th June, 2020, the extracted quarter will be '2020-Q2'\n",
        "\n",
        "* if the date lies between 1st July, 2020 - 30th September, 2020, the extracted quarter will be '2020-Q3' \n",
        "\n",
        "* if the date lies between 1st October, 2020 - 31st Decemeber, 2020 then the extracted quarter will be '2020-Q4'\n"
      ]
    },
    {
      "cell_type": "code",
      "metadata": {
        "id": "RxVZTrenzfHC",
        "colab": {
          "base_uri": "https://localhost:8080/"
        },
        "outputId": "984d11ce-2ef3-486e-9bc4-4c0a0778b640"
      },
      "source": [
        "# Take a proper date input from the user in the format YYYY-MM-DD. Consider this date as a string\n",
        "user_date = str(input('Input the date in \\'YYYY-MM-DD\\' format: '))"
      ],
      "execution_count": 38,
      "outputs": [
        {
          "name": "stdout",
          "output_type": "stream",
          "text": [
            "Input the date in 'YYYY-MM-DD' format: 2021-01-01\n"
          ]
        }
      ]
    },
    {
      "cell_type": "code",
      "metadata": {
        "id": "N1Yhpkiws8B3",
        "colab": {
          "base_uri": "https://localhost:8080/"
        },
        "outputId": "b6c05095-53ea-4e50-90ee-91a39f33350f"
      },
      "source": [
        "# Write your code using if else statements to extract the quarter\n",
        "#date_year = \n",
        "#date_month = \n",
        "\n",
        "if user_date > '2020-01-01' and user_date < '2020-03-31' :\n",
        "  print(\"2020-Q1\")\n",
        "elif user_date > '2020-03-31' and user_date < '2020-06-30' :\n",
        "  print(\"2020-Q2\")\n",
        "elif user_date > '2020-06-30' and user_date < '2020-09-30' :\n",
        "  print(\"2020-Q3\")\n",
        "elif user_date > '2020-09-30' and user_date < '2020-12-31' :\n",
        "  print(\"2020-Q4\")\n",
        "else :\n",
        "  print('Date out of range.')\n",
        "\n",
        "# Store the quarter value in a string variable named quarter\n",
        "\n"
      ],
      "execution_count": 39,
      "outputs": [
        {
          "output_type": "stream",
          "name": "stdout",
          "text": [
            "Date out of range.\n"
          ]
        }
      ]
    },
    {
      "cell_type": "markdown",
      "metadata": {
        "id": "5qd8g8UUs8CM"
      },
      "source": [
        "## <u>Problem 2 </u>\n",
        "\n",
        "* You went out in your local neighbourhood to collect the data of people residing in the locale. You surveyed 5 people and collected some data and stored that in a dictionary. You recorded their names, their age, their sex, their heights(in cms) and their weights(in kgs)"
      ]
    },
    {
      "cell_type": "code",
      "metadata": {
        "id": "FBJy9Sq_s8CN"
      },
      "source": [
        "# Surveyed data \n",
        "\n",
        "locality_data = {'Name' : ['Abhinav','Sohail','Dheeraj','Rashmi','Vaishali'],\n",
        "                  'Age' : [42,29,35,28,32],\n",
        "                  'Sex' : ['Male', 'Male','Male','Female','Female'] , \n",
        "                  'Height' : [172,175,170,168,170],\n",
        "                  'Weight' : [70,82,60,55,64]\n",
        "                 }"
      ],
      "execution_count": 50,
      "outputs": []
    },
    {
      "cell_type": "markdown",
      "metadata": {
        "id": "2_rBSgqz5Ums"
      },
      "source": [
        "* Find the mean and median heights and weights of the people in your locality"
      ]
    },
    {
      "cell_type": "code",
      "metadata": {
        "id": "zywXa51d6Eev",
        "colab": {
          "base_uri": "https://localhost:8080/"
        },
        "outputId": "89bffa24-075a-48d1-bab2-ffd49ed85016"
      },
      "source": [
        "# Calculate the mean height and print it\n",
        "total_height = locality_data['Height']\n",
        "mean_height = sum(total_height)/len(total_height)\n",
        "print('Mean height is', mean_height)\n",
        "\n",
        "# Check if the number of elements in the list is even or odd\n",
        "height = len(total_height)%2==0\n",
        "print ('Given range of height is Even.'*(height==True),'Given range of height is Odd'*(height==False))\n",
        "\n",
        "# Calculate the median height and print it\n",
        "sort_height = sorted(total_height)\n",
        "x = (len(sort_height)/2)\n",
        "y = (sort_height[int(x)-1]+sort_height[int(x)])/2\n",
        "z = sort_height[int(x)]\n",
        "print('Median height is',y*(height==True), z*(height==False))\n",
        "\n",
        "\n",
        "# Calculate the mean weight and print it\n",
        "total_weight = locality_data['Weight']\n",
        "mean_weight = sum(total_weight)/len(total_weight)\n",
        "print('Mean height is',mean_weight)\n",
        "\n",
        "# Check if the number of elements in the list is even or odd\n",
        "weight = len(total_weight)%2==0\n",
        "print ('Given range of weight is Even.'*(weight==True),'Given range of weight is Odd'*(weight==False))\n",
        "\n",
        "# Calculate the median weight and print it\n",
        "sort_weight = sorted(total_weight)\n",
        "a = (len(sort_weight)/2)\n",
        "b = (sort_weight[int(a)-1]+sort_weight[int(a)])/2\n",
        "c = sort_weight[int(a)]\n",
        "print('Median weight is',b*(weight==True), c*(weight==False))\n",
        "\n"
      ],
      "execution_count": 152,
      "outputs": [
        {
          "output_type": "stream",
          "name": "stdout",
          "text": [
            "Mean height is 171.0\n",
            " Given range of height is Odd\n",
            "Median height is 0.0 170\n",
            "Mean height is 66.2\n",
            " Given range of weight is Odd\n",
            "Median weight is 0.0 64\n"
          ]
        }
      ]
    },
    {
      "cell_type": "markdown",
      "metadata": {
        "id": "yLb5awgPQeYA"
      },
      "source": [
        "* Write a Python code to print the first three elements from the list of age values corresponding to the key 'Age'"
      ]
    },
    {
      "cell_type": "code",
      "metadata": {
        "id": "wef2fVgx6Gji",
        "colab": {
          "base_uri": "https://localhost:8080/"
        },
        "outputId": "4a2bd4ab-8d41-40b4-bbdc-067dce745afe"
      },
      "source": [
        "# Python code to print the first three elements for the key 'Age'\n",
        "\n",
        "ages = locality_data['Age']\n",
        "ages[0:3]\n"
      ],
      "execution_count": 79,
      "outputs": [
        {
          "output_type": "execute_result",
          "data": {
            "text/plain": [
              "[42, 29, 35]"
            ]
          },
          "metadata": {},
          "execution_count": 79
        }
      ]
    },
    {
      "cell_type": "code",
      "source": [
        "ages = locality_data['Age'][0:3]\n",
        "print(ages)"
      ],
      "metadata": {
        "colab": {
          "base_uri": "https://localhost:8080/"
        },
        "id": "k2b7bW_ilWMV",
        "outputId": "7b719530-a66e-4ba9-9d52-b9840b238e7d"
      },
      "execution_count": 153,
      "outputs": [
        {
          "output_type": "stream",
          "name": "stdout",
          "text": [
            "[42, 29, 35]\n"
          ]
        }
      ]
    },
    {
      "cell_type": "markdown",
      "metadata": {
        "id": "NGrZaqulRIM1"
      },
      "source": [
        "* Write a Python code to print the last two elements of the name list if the list of values corresponding to the key 'Name' contains the element 'Rashmi' else print 'Name not found'"
      ]
    },
    {
      "cell_type": "code",
      "source": [
        "type_name = input('Enter first letter of the Name in capital: ')"
      ],
      "metadata": {
        "colab": {
          "base_uri": "https://localhost:8080/"
        },
        "id": "qHy43M-8XU8V",
        "outputId": "93f599a9-7d1b-4fbb-8289-0d16f4dcd5d2"
      },
      "execution_count": 100,
      "outputs": [
        {
          "name": "stdout",
          "output_type": "stream",
          "text": [
            "Enter first letter of the Name in capital: Rashmi\n"
          ]
        }
      ]
    },
    {
      "cell_type": "code",
      "metadata": {
        "id": "TBRZzwAcRTNL",
        "colab": {
          "base_uri": "https://localhost:8080/"
        },
        "outputId": "538ccb83-8c6b-4b96-a2fe-129da3efbe97"
      },
      "source": [
        "# Your code below\n",
        "last2_elements = locality_data['Name']\n",
        "x = last2_elements[-2:]\n",
        "y = x.index(type_name)\n",
        "\n",
        "if y == 0 or y > 0 :\n",
        "  print(x)\n",
        "else :\n",
        "  print('Name not found.')\n"
      ],
      "execution_count": 155,
      "outputs": [
        {
          "output_type": "stream",
          "name": "stdout",
          "text": [
            "['Rashmi', 'Vaishali']\n"
          ]
        }
      ]
    },
    {
      "cell_type": "markdown",
      "metadata": {
        "id": "ejRCi-vTs8CU"
      },
      "source": [
        "## <u> Problem 3 </u>\n",
        "\n",
        "A student will not be allowed to sit in exam if his/her attendence is less than 75%.\n",
        "\n",
        "Take following input from user\n",
        "* Number of classes held\n",
        "* Number of classes attended."
      ]
    },
    {
      "cell_type": "code",
      "metadata": {
        "id": "C5olNuDGs8CU",
        "colab": {
          "base_uri": "https://localhost:8080/"
        },
        "outputId": "e733f218-2e96-4b61-c83b-d5b1329cbb7c"
      },
      "source": [
        "# Enter your input\n",
        "\n",
        "print(\"Number of classes held\")\n",
        "classes_held = int(input())\n",
        "\n",
        "print(\"Number of classes attended\")\n",
        "classes_attended = int(input())"
      ],
      "execution_count": 119,
      "outputs": [
        {
          "name": "stdout",
          "output_type": "stream",
          "text": [
            "Number of classes held\n",
            "100\n",
            "Number of classes attended\n",
            "75\n"
          ]
        }
      ]
    },
    {
      "cell_type": "code",
      "metadata": {
        "id": "i553Hqamm2jR",
        "colab": {
          "base_uri": "https://localhost:8080/"
        },
        "outputId": "fbbcfd82-a195-4f50-f29e-86f26aba1f11"
      },
      "source": [
        "# Calculate the attendance percentage\n",
        "attendance = classes_attended*100/classes_held\n",
        "\n",
        "print(f'The attendance is {attendance}%')"
      ],
      "execution_count": 122,
      "outputs": [
        {
          "output_type": "stream",
          "name": "stdout",
          "text": [
            "The attendance is 75.0%\n"
          ]
        }
      ]
    },
    {
      "cell_type": "markdown",
      "metadata": {
        "id": "QYDpXSANnKxV"
      },
      "source": [
        "And print the following statements based on the condition above\n",
        "\n",
        "* percentage of class attended\n",
        "* Is student is allowed to sit in exam or not."
      ]
    },
    {
      "cell_type": "code",
      "metadata": {
        "id": "SoQ3P0yym2ts",
        "colab": {
          "base_uri": "https://localhost:8080/"
        },
        "outputId": "7c84f17d-6d73-4253-9dff-af4c47716253"
      },
      "source": [
        "# Your code here\n",
        "if attendance >= 75.0 :\n",
        "  print('Your attendance is above or equal to 75%. You are eligible to appear in exams.') \n",
        "else :\n",
        "  print('Your attendance is below 75%. You are not eligible to appear in exams.')"
      ],
      "execution_count": 156,
      "outputs": [
        {
          "output_type": "stream",
          "name": "stdout",
          "text": [
            "Your attendance is above or equal to 75%. You are eligible to appear in exams.\n"
          ]
        }
      ]
    },
    {
      "cell_type": "markdown",
      "metadata": {
        "id": "P1rOYC8Is8Cf"
      },
      "source": [
        "## <u>Problem 4</u>\n",
        "\n",
        "### A school has following rules for grading system:\n",
        "* Below 25 - F\n",
        "* 25 to 45 - E\n",
        "* 45 to 50 - D\n",
        "* 50 to 60 - C\n",
        "* 60 to 80 - B\n",
        "* Above 80 - A\n",
        "\n",
        "Keep the left number inclusive and the right number exclusive, something like [25,45) for grade E where the set is closed at 25 and open at 45.\n",
        "\n",
        "Write a Python code which takes marks as inputs from the user and print the corresponding grade."
      ]
    },
    {
      "cell_type": "code",
      "metadata": {
        "id": "ySeGyCtCs8Cg",
        "colab": {
          "base_uri": "https://localhost:8080/"
        },
        "outputId": "7005f020-2c29-4a1d-f805-befaa828dc19"
      },
      "source": [
        "# Your input here \n",
        "print(\"Enter your marks\")\n",
        "marks = int(input())"
      ],
      "execution_count": 148,
      "outputs": [
        {
          "name": "stdout",
          "output_type": "stream",
          "text": [
            "Enter your marks\n",
            "80\n"
          ]
        }
      ]
    },
    {
      "cell_type": "code",
      "metadata": {
        "id": "MI7mOHaqs8Cj",
        "colab": {
          "base_uri": "https://localhost:8080/"
        },
        "outputId": "5c75875a-1289-4d4f-e228-8258a22fd904"
      },
      "source": [
        "# Your code here to print the corresponding grade\n",
        "\n",
        "if marks < 25 :\n",
        "  print('F')\n",
        "if marks >= 25 and marks < 45 :\n",
        "  print('E')\n",
        "if marks >= 45 and marks < 50 :\n",
        "  print('D')\n",
        "if marks >= 50 and marks < 60 :\n",
        "  print('C')\n",
        "if marks >= 60 and marks <= 80 :\n",
        "  print('B')\n",
        "if marks > 80 :\n",
        "  print('A')\n"
      ],
      "execution_count": 149,
      "outputs": [
        {
          "output_type": "stream",
          "name": "stdout",
          "text": [
            "B\n"
          ]
        }
      ]
    }
  ]
}